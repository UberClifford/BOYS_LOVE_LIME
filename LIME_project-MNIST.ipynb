{
 "cells": [
  {
   "cell_type": "markdown",
   "metadata": {},
   "source": [
    "# IMPORTS, FUNCTIONS AND OTHER STATIC STUFF"
   ]
  },
  {
   "cell_type": "code",
   "execution_count": 1,
   "metadata": {
    "scrolled": false
   },
   "outputs": [
    {
     "name": "stdout",
     "output_type": "stream",
     "text": [
      "Device: cuda\n"
     ]
    }
   ],
   "source": [
    "### IMPORTS ###\n",
    "import matplotlib.pyplot as plt\n",
    "from PIL import Image\n",
    "import random\n",
    "import torch.nn as nn\n",
    "import numpy as np\n",
    "import os, json\n",
    "import torch\n",
    "from torchvision import models, transforms, datasets\n",
    "from torch.autograd import Variable\n",
    "import torch.nn.functional as F\n",
    "from skimage.segmentation import watershed, mark_boundaries\n",
    "from skimage.filters import sobel\n",
    "from skimage.color import rgb2gray\n",
    "from lime import lime_image, scikit_image_wrapper\n",
    "from pathlib import Path\n",
    "from utils.mnist_helpers import MNIST_CNN\n",
    "\n",
    "### STATIC PATHS ###\n",
    "ROOT_DIR = Path.cwd()\n",
    "DATA_PATH = ROOT_DIR / 'data'\n",
    "MNIST_PATH = DATA_PATH / 'MNIST'\n",
    "MNIST_TRAINED_WEIGHTS = MNIST_PATH / 'mnist_cnn.pt'\n",
    "\n",
    "### PYTORCH SETTINGS ###\n",
    "torch.set_grad_enabled(False)\n",
    "device = torch.device(\"cuda\" if torch.cuda.is_available() else \"cpu\")\n",
    "print(f\"Device: {device}\")\n",
    "\n",
    "### FUNCTIONS ###\n",
    "def get_datasets():\n",
    "    train_dataset = datasets.MNIST(DATA_PATH, train=True, download=True)\n",
    "    test_dataset = datasets.MNIST(DATA_PATH, train=False)\n",
    "    return train_dataset, test_dataset\n",
    "\n",
    "def get_image(dataset):\n",
    "    #randomly pick a image from image folder\n",
    "    index = random.randint(0, len(dataset))\n",
    "    img = transforms.functional.to_pil_image(dataset.data[index])\n",
    "    return img\n",
    "\n",
    "def get_preprocess_transform():\n",
    "    normalize = transforms.Normalize((0.1307,), (0.3081,))   \n",
    "    transf = transforms.Compose([\n",
    "        transforms.ToTensor(),\n",
    "        normalize\n",
    "    ])    \n",
    "\n",
    "    return transf    \n",
    "\n",
    "def batch_predict(images):\n",
    "    model.eval()\n",
    "    # [:,:,0] converts back to grayscale\n",
    "    batch = torch.stack(tuple(preprocess_transform(i[:,:,0]) for i in images), dim=0)\n",
    "\n",
    "    model.to(device)\n",
    "    batch = batch.to(device)\n",
    "\n",
    "    logits = model(batch)\n",
    "    probs = F.softmax(logits, dim=1)\n",
    "    return probs.detach().cpu().numpy()\n"
   ]
  },
  {
   "cell_type": "code",
   "execution_count": 2,
   "metadata": {
    "scrolled": false
   },
   "outputs": [],
   "source": [
    "# Get datasets\n",
    "train_dataset, test_dataset = get_datasets()"
   ]
  },
  {
   "cell_type": "code",
   "execution_count": 3,
   "metadata": {
    "scrolled": false
   },
   "outputs": [
    {
     "data": {
      "text/plain": [
       "<matplotlib.image.AxesImage at 0x7f5ce8d9c100>"
      ]
     },
     "execution_count": 3,
     "metadata": {},
     "output_type": "execute_result"
    },
    {
     "data": {
      "image/png": "[encoded data removed]",
      "text/plain": [
       "<Figure size 432x288 with 1 Axes>"
      ]
     },
     "metadata": {
      "needs_background": "light"
     },
     "output_type": "display_data"
    }
   ],
   "source": [
    "#display a image\n",
    "img = get_image(train_dataset)\n",
    "plt.imshow(img)"
   ]
  },
  {
   "cell_type": "markdown",
   "metadata": {},
   "source": [
    "# BLACK BOX CLASSIFIER"
   ]
  },
  {
   "cell_type": "code",
   "execution_count": 4,
   "metadata": {
    "scrolled": true
   },
   "outputs": [
    {
     "name": "stdout",
     "output_type": "stream",
     "text": [
      "tensor([[-26.4668, -32.4981, -16.6118, -26.5634, -28.3766, -30.0724, -30.7033,\n",
      "         -33.7450,   7.7618, -27.3506]])\n",
      "Prediction: 8\n"
     ]
    },
    {
     "data": {
      "image/png": "[encoded data removed]",
      "text/plain": [
       "<Figure size 432x288 with 1 Axes>"
      ]
     },
     "metadata": {
      "needs_background": "light"
     },
     "output_type": "display_data"
    }
   ],
   "source": [
    "#same architecture used as https://github.com/amitrajitbose/cat-v-dog-classifier-pytorch\n",
    "model = MNIST_CNN()\n",
    "\n",
    "#load model weights from black box training (Train loss: 0.109.. Test loss: 0.031.. Test accuracy: 0.988)\n",
    "model.load_state_dict(torch.load(MNIST_TRAINED_WEIGHTS, map_location=device))\n",
    "model.eval()\n",
    "\n",
    "#test prediction\n",
    "img = get_image(test_dataset)\n",
    "preprocess_transform = get_preprocess_transform()\n",
    "out = model(torch.unsqueeze(preprocess_transform(np.array(img)), dim=0))\n",
    "class_idx = torch.max(F.softmax(out, dim=1), dim=1).indices\n",
    "plt.imshow(img)\n",
    "print(out)\n",
    "print(f\"Prediction: {class_idx.item()}\")"
   ]
  },
  {
   "cell_type": "markdown",
   "metadata": {},
   "source": [
    "# LIME"
   ]
  },
  {
   "cell_type": "code",
   "execution_count": 33,
   "metadata": {},
   "outputs": [],
   "source": [
    "#segmentation_fn = lambda img: watershed(sobel(rgb2gray(img)), markers=200)\n",
    "segmentation_fn = lambda img: np.arange(img.shape[0]*img.shape[1]).reshape(img.shape[:2]) # individual pixels"
   ]
  },
  {
   "cell_type": "code",
   "execution_count": 34,
   "metadata": {
    "scrolled": false
   },
   "outputs": [
    {
     "data": {
      "application/vnd.jupyter.widget-view+json": {
       "model_id": "20799ef1c7ea44829a6610279ac83aa2",
       "version_major": 2,
       "version_minor": 0
      },
      "text/plain": [
       "  0%|          | 0/100000 [00:00<?, ?it/s]"
      ]
     },
     "metadata": {},
     "output_type": "display_data"
    },
    {
     "name": "stdout",
     "output_type": "stream",
     "text": [
      "Intercept 0.46846778394211214\n",
      "Prediction_local [-0.11164728]\n",
      "Right: 2.5983288e-11\n",
      "Intercept -1.147656533058789\n",
      "Prediction_local [2.03200206]\n",
      "Right: 1.0\n"
     ]
    }
   ],
   "source": [
    "### LIME ###\n",
    "#LIME code taken and modified from https://github.com/marcotcr/lime\n",
    "explainer = lime_image.LimeImageExplainer(kernel_width=0.25, verbose=True)\n",
    "explanation = explainer.explain_instance(np.array(img), \n",
    "                                         batch_predict, # classification function\n",
    "                                         top_labels=2, \n",
    "                                         hide_color=0, \n",
    "                                         num_samples=100000,\n",
    "                                         segmentation_fn = segmentation_fn) # number of images that will be sent to classification function"
   ]
  },
  {
   "cell_type": "code",
   "execution_count": 44,
   "metadata": {},
   "outputs": [
    {
     "name": "stderr",
     "output_type": "stream",
     "text": [
      "Clipping input data to the valid range for imshow with RGB data ([0..1] for floats or [0..255] for integers).\n"
     ]
    },
    {
     "data": {
      "text/plain": [
       "<matplotlib.image.AxesImage at 0x7f5c81d154c0>"
      ]
     },
     "execution_count": 44,
     "metadata": {},
     "output_type": "execute_result"
    },
    {
     "data": {
      "image/png": "[encoded data removed]",
      "text/plain": [
       "<Figure size 432x288 with 1 Axes>"
      ]
     },
     "metadata": {
      "needs_background": "light"
     },
     "output_type": "display_data"
    }
   ],
   "source": [
    "#Visualizing explained features \n",
    "temp, mask = explanation.get_image_and_mask(explanation.top_labels[0], positive_only=True, num_features=50, hide_rest=False)\n",
    "img_boundry1 = mark_boundaries(temp, mask, mode='subpixel')\n",
    "plt.imshow(img_boundry1)"
   ]
  },
  {
   "cell_type": "markdown",
   "metadata": {},
   "source": [
    "Let's turn on areas that contributes against the top prediction."
   ]
  },
  {
   "cell_type": "code",
   "execution_count": 45,
   "metadata": {
    "scrolled": true
   },
   "outputs": [
    {
     "name": "stderr",
     "output_type": "stream",
     "text": [
      "Clipping input data to the valid range for imshow with RGB data ([0..1] for floats or [0..255] for integers).\n"
     ]
    },
    {
     "data": {
      "text/plain": [
       "<matplotlib.image.AxesImage at 0x7f5c81cd8b80>"
      ]
     },
     "execution_count": 45,
     "metadata": {},
     "output_type": "execute_result"
    },
    {
     "data": {
      "image/png": "[encoded data removed]",
      "text/plain": [
       "<Figure size 432x288 with 1 Axes>"
      ]
     },
     "metadata": {
      "needs_background": "light"
     },
     "output_type": "display_data"
    }
   ],
   "source": [
    "#Visualizing explained features with coloring (green= areas contributing for top prediction red=areas contributing against top prediction)\n",
    "temp, mask = explanation.get_image_and_mask(explanation.top_labels[0], positive_only=False, num_features=50, hide_rest=False)\n",
    "img_boundry2 = mark_boundaries(temp, mask, mode='subpixel')\n",
    "plt.imshow(img_boundry2)"
   ]
  },
  {
   "cell_type": "code",
   "execution_count": null,
   "metadata": {},
   "outputs": [],
   "source": []
  }
 ],
 "metadata": {
  "kernelspec": {
   "display_name": "Python 3",
   "language": "python",
   "name": "python3"
  },
  "language_info": {
   "codemirror_mode": {
    "name": "ipython",
    "version": 3
   },
   "file_extension": ".py",
   "mimetype": "text/x-python",
   "name": "python",
   "nbconvert_exporter": "python",
   "pygments_lexer": "ipython3",
   "version": "3.8.8"
  }
 },
 "nbformat": 4,
 "nbformat_minor": 2
}
